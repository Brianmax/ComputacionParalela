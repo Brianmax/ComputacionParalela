{
  "nbformat": 4,
  "nbformat_minor": 0,
  "metadata": {
    "colab": {
      "provenance": [],
      "collapsed_sections": [],
      "authorship_tag": "ABX9TyNuQzcP8GD/KFFOtW3rUPYH",
      "include_colab_link": true
    },
    "kernelspec": {
      "name": "python3",
      "display_name": "Python 3"
    },
    "language_info": {
      "name": "python"
    },
    "accelerator": "GPU",
    "gpuClass": "standard"
  },
  "cells": [
    {
      "cell_type": "markdown",
      "metadata": {
        "id": "view-in-github",
        "colab_type": "text"
      },
      "source": [
        "<a href=\"https://colab.research.google.com/github/Brianmax/ComputacionParalela/blob/main/Computacion_Paralela_(CUDA).ipynb\" target=\"_parent\"><img src=\"https://colab.research.google.com/assets/colab-badge.svg\" alt=\"Open In Colab\"/></a>"
      ]
    },
    {
      "cell_type": "code",
      "source": [
        "!pip install git+https://github.com/andreinechaev/nvcc4jupyter.git"
      ],
      "metadata": {
        "colab": {
          "base_uri": "https://localhost:8080/"
        },
        "id": "4J-8ujXvTD-e",
        "outputId": "ff1a0c38-7f67-4629-bdb1-591ca029cac9"
      },
      "execution_count": 46,
      "outputs": [
        {
          "output_type": "stream",
          "name": "stdout",
          "text": [
            "Looking in indexes: https://pypi.org/simple, https://us-python.pkg.dev/colab-wheels/public/simple/\n",
            "Collecting git+https://github.com/andreinechaev/nvcc4jupyter.git\n",
            "  Cloning https://github.com/andreinechaev/nvcc4jupyter.git to /tmp/pip-req-build-b0gubtq6\n",
            "  Running command git clone -q https://github.com/andreinechaev/nvcc4jupyter.git /tmp/pip-req-build-b0gubtq6\n"
          ]
        }
      ]
    },
    {
      "cell_type": "code",
      "source": [
        "%load_ext nvcc_plugin\n"
      ],
      "metadata": {
        "colab": {
          "base_uri": "https://localhost:8080/"
        },
        "id": "GyX-0b8HTatG",
        "outputId": "1907fbe0-c8c0-466b-d3d0-d60776c9c01e"
      },
      "execution_count": 47,
      "outputs": [
        {
          "output_type": "stream",
          "name": "stdout",
          "text": [
            "The nvcc_plugin extension is already loaded. To reload it, use:\n",
            "  %reload_ext nvcc_plugin\n"
          ]
        }
      ]
    },
    {
      "cell_type": "code",
      "source": [
        "%%cu\n",
        "#include \"cuda_runtime.h\"\n",
        "#include \"device_launch_parameters.h\"\n",
        "\n",
        "#include <stdio.h>\n",
        "#include <stdlib.h>\n",
        "#include <time.h>\n",
        "#include <cuda.h>\n",
        "#include <math.h>\n",
        "#include <iostream>\n",
        "using namespace std;\n",
        "__global__ void\n",
        "matrixAddKernel_B(int *A, int *B, int *C, int TamMatrix) {\n",
        "    int i = threadIdx.x + blockIdx.x*blockDim.x;\n",
        "    int j = threadIdx.y + blockIdx.y*blockDim.y;\n",
        "    if (i < TamMatrix && j < TamMatrix)\n",
        "    {\n",
        "        C[i*TamMatrix + j] = A[i*TamMatrix + j] + B[i*TamMatrix + j];\n",
        "    }\n",
        "}\n",
        "__global__ void\n",
        "matrixAddKernel_C(int *A, int *B, int *C, int TamMatrix) {\n",
        "    int i = threadIdx.x + blockIdx.x*blockDim.x;\n",
        "    int j = threadIdx.y + blockIdx.y*blockDim.y;\n",
        "    if (j == 0 && i < TamMatrix) {\n",
        "\t\twhile (j < TamMatrix) {\n",
        "\t\t\tC[i*TamMatrix + j] = A[i*TamMatrix + j] + B[i*TamMatrix + j];\n",
        "\t\t\tj++;\n",
        "\t\t}\n",
        "\t}\n",
        "}\n",
        "__global__ void\n",
        "matrixAddKernel_D(int *A, int *B, int *C, int TamMatrix) {\n",
        "    int i = threadIdx.x + blockIdx.x*blockDim.x;\n",
        "    int j = threadIdx.y + blockIdx.y*blockDim.y;\n",
        "    if (i == 0 && j < TamMatrix) {\n",
        "\t\twhile (i < TamMatrix) {\n",
        "\t\t\tC[i*TamMatrix + j] = A[i*TamMatrix + j] + B[i*TamMatrix + j];\n",
        "\t\t\ti++;\n",
        "\t\t}\n",
        "\t}\n",
        "}\n",
        "void matrixAdd(int *h_A, int *h_B, int *h_C, int TamMatrix) {\n",
        "    int *d_A, *d_B, *d_C;\n",
        "    int size = TamMatrix*TamMatrix*sizeof(float);\n",
        "    cudaMalloc((void**)&d_A, size);\n",
        "    cudaMalloc((void**)&d_B, size);\n",
        "    cudaMalloc((void**)&d_C, size);\n",
        "\n",
        "    cudaMemcpy(d_A, h_A, size, cudaMemcpyHostToDevice);\n",
        "    cudaMemcpy(d_B, h_B, size, cudaMemcpyHostToDevice);\n",
        "    cudaMemcpy(d_C, h_C, size, cudaMemcpyHostToDevice);\n",
        "    dim3 dimGrid(ceil(TamMatrix / 32.0), ceil(TamMatrix / 32.0), 1);\n",
        "\tdim3 dimBlock(32.0, 32.0, 1);\n",
        "    matrixAddKernel_C<<<dimGrid, dimBlock>>>(d_A, d_B, d_C, TamMatrix);\n",
        "\n",
        "    \n",
        "    cudaMemcpy(h_C, d_C, size, cudaMemcpyDeviceToHost);\n",
        "\n",
        "    cudaFree(d_A); cudaFree(d_B); cudaFree(d_C);\n",
        "}\n",
        "\n",
        "int main()\n",
        "{\n",
        "    int A[9] = {1,2,3,4,5,6,7,8,9};\n",
        "    int B[9] = {1,2,3,4,5,6,7,8,9};\n",
        "    int C[9];\n",
        "    matrixAdd(A, B, C, 3);\n",
        "    for (int i = 0; i < 9; i++)\n",
        "    {\n",
        "        cout << C[i] << \" \";\n",
        "    }\n",
        "    return 0;\n",
        "}\n"
      ],
      "metadata": {
        "colab": {
          "base_uri": "https://localhost:8080/"
        },
        "id": "gBxnVIgMLrQ5",
        "outputId": "3ddad4d0-5a5a-412e-fd1c-707047e30f92"
      },
      "execution_count": 48,
      "outputs": [
        {
          "output_type": "stream",
          "name": "stdout",
          "text": [
            "2 4 6 8 10 12 14 16 18 \n"
          ]
        }
      ]
    },
    {
      "cell_type": "code",
      "source": [
        "%%cu\n",
        "#include \"cuda_runtime.h\"\n",
        "#include \"device_launch_parameters.h\"\n",
        "\n",
        "#include <stdio.h>\n",
        "#include <stdlib.h>\n",
        "#include <time.h>\n",
        "#include <cuda.h>\n",
        "#include <math.h>\n",
        "#include <iostream>\n",
        "using namespace std;\n",
        "__global__ \n",
        "void matrixMultKernel(int *A, int *B, int *C, int TamMatrix) {\n",
        "    int i = threadIdx.x + blockIdx.x*blockDim.x;\n",
        "    int j = threadIdx.y + blockIdx.y*blockDim.y;\n",
        "    if (i < TamMatrix && j < TamMatrix)\n",
        "    {\n",
        "        int sum = 0;\n",
        "        for (int it = 0; it < TamMatrix; it++)\n",
        "            sum = sum + A[i*TamMatrix + it] * B[it];\n",
        "        C[i] = sum;\n",
        "    }\n",
        "}\n",
        "void matrixMult(int *h_A, int *h_B, int *h_C, int TamMatrix) {\n",
        "    int *d_A, *d_B, *d_C;\n",
        "    int size = TamMatrix*TamMatrix*sizeof(float);\n",
        "    cudaMalloc((void**)&d_A, size);\n",
        "    cudaMalloc((void**)&d_B, size);\n",
        "    cudaMalloc((void**)&d_C, size);\n",
        "\n",
        "    cudaMemcpy(d_A, h_A, size, cudaMemcpyHostToDevice);\n",
        "    cudaMemcpy(d_B, h_B, size, cudaMemcpyHostToDevice);\n",
        "    cudaMemcpy(d_C, h_C, size, cudaMemcpyHostToDevice);\n",
        "    dim3 dimGrid(ceil(TamMatrix / 32.0), ceil(TamMatrix / 32.0), 1);\n",
        "\tdim3 dimBlock(32.0, 32.0, 1);\n",
        "\n",
        "    matrixMultKernel<<<dimGrid, dimBlock>>>(d_A, d_B, d_C, TamMatrix);\n",
        "\n",
        "    \n",
        "    cudaMemcpy(h_C, d_C, size, cudaMemcpyDeviceToHost);\n",
        "\n",
        "    cudaFree(d_A); cudaFree(d_B); cudaFree(d_C);\n",
        "}\n",
        "\n",
        "int main()\n",
        "{\n",
        "    int A[9] = {1,2,3,4,5,6,7,8,9};\n",
        "    int B[9] = {1,2,3};\n",
        "    int C[9];\n",
        "    matrixMult(A, B, C, 3);\n",
        "    for (int i = 0; i < 3; i++)\n",
        "    {\n",
        "        cout << C[i] << \" \";\n",
        "    }\n",
        "    return 0;\n",
        "}\n"
      ],
      "metadata": {
        "colab": {
          "base_uri": "https://localhost:8080/"
        },
        "id": "G_6NR5Qr0s2V",
        "outputId": "f8725713-7013-4ebb-8f69-015f870a5c99"
      },
      "execution_count": 45,
      "outputs": [
        {
          "output_type": "stream",
          "name": "stdout",
          "text": [
            "14 32 50 \n"
          ]
        }
      ]
    }
  ]
}